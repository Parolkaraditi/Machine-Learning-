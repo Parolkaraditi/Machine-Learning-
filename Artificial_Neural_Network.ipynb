{
  "cells": [
    {
      "cell_type": "markdown",
      "metadata": {
        "id": "view-in-github",
        "colab_type": "text"
      },
      "source": [
        "<a href=\"https://colab.research.google.com/github/Parolkaraditi/Machine-Learning-/blob/main/Artificial_Neural_Network.ipynb\" target=\"_parent\"><img src=\"https://colab.research.google.com/assets/colab-badge.svg\" alt=\"Open In Colab\"/></a>"
      ]
    },
    {
      "cell_type": "markdown",
      "metadata": {
        "id": "4qhcWwAKFEIG"
      },
      "source": [
        "# Part 1: Neural Network"
      ]
    },
    {
      "cell_type": "markdown",
      "metadata": {
        "id": "rtHqhlc-FEII"
      },
      "source": [
        "### Importing libraries"
      ]
    },
    {
      "cell_type": "markdown",
      "metadata": {
        "id": "mnOlFVnwVWFH"
      },
      "source": [
        "image is not inserted in to NN so we takes pixels in Flatend form.\n",
        "Optimizer:\n",
        "RMS prop, SGD, Adam, Adagrad"
      ]
    },
    {
      "cell_type": "code",
      "execution_count": null,
      "metadata": {
        "id": "KEkma5E_FEIJ"
      },
      "outputs": [],
      "source": [
        "import warnings\n",
        "warnings.filterwarnings('ignore')\n",
        "\n",
        "import numpy as np #for matrices\n",
        "import matplotlib.pyplot as plt #for graphs\n",
        "import keras #framework\n",
        "from keras.datasets import mnist #hand written digits\n",
        "from keras.models import Sequential,model_from_json\n",
        "from keras.layers import Dense #every  neuron connected to each neuron\n",
        "from keras.optimizers import RMSprop #for convergence\n",
        "import pylab as plt"
      ]
    },
    {
      "cell_type": "markdown",
      "metadata": {
        "id": "2Y2S4DW-FEIK"
      },
      "source": [
        "#### Keras is the deep learning library that helps you to code Deep Neural Networks with fewer lines of code"
      ]
    },
    {
      "cell_type": "markdown",
      "metadata": {
        "id": "hl6X0bn4FEIK"
      },
      "source": [
        "### Import data"
      ]
    },
    {
      "cell_type": "code",
      "execution_count": null,
      "metadata": {
        "colab": {
          "base_uri": "https://localhost:8080/"
        },
        "id": "xJu7khM8FEIK",
        "outputId": "72ec6772-1f7d-484c-adea-adb69f903403"
      },
      "outputs": [
        {
          "name": "stdout",
          "output_type": "stream",
          "text": [
            "60000 train samples\n",
            "10000 test samples\n"
          ]
        }
      ],
      "source": [
        "batch_size = 256 #should be power of 2, hyperparameter\n",
        "num_classes = 10 #number of neurons in output layer\n",
        "epochs = 8\n",
        "\n",
        "# the data, split between train and test sets\n",
        "(x_train, y_train), (x_test, y_test) = mnist.load_data()#xtrain:features,ytrain:Output,\n",
        "#Xtest:Testing of feature,ytest:testing of output\n",
        "x_train = x_train.reshape(60000, 784)\n",
        "x_test = x_test.reshape(10000, 784) #10000  pixels\n",
        "x_train = x_train.astype('float32')#preprocessing of floating image\n",
        "x_test = x_test.astype('float32')\n",
        "\n",
        "# Normalize to 0 to 1 range\n",
        "x_train /= 255#coloured image range from 0 to 255\n",
        "x_test /= 255#we will take gray scale of range from 0 to 1\n",
        "\n",
        "print(x_train.shape[0], 'train samples')\n",
        "print(x_test.shape[0], 'test samples')\n",
        "# convert class vectors to binary class matrices\n",
        "y_train = keras.utils.to_categorical(y_train, num_classes) #to_categorical:one code handcoding\n",
        "y_test = keras.utils.to_categorical(y_test, num_classes)"
      ]
    },
    {
      "cell_type": "markdown",
      "metadata": {
        "id": "6MRnvo6uFEIL"
      },
      "source": [
        "### Visualize Data"
      ]
    },
    {
      "cell_type": "code",
      "execution_count": null,
      "metadata": {
        "colab": {
          "base_uri": "https://localhost:8080/",
          "height": 447
        },
        "id": "mSDogZSXFEIL",
        "outputId": "4d1b26da-b3bd-42e8-ff44-8a8eca7a2648",
        "scrolled": true
      },
      "outputs": [
        {
          "name": "stdout",
          "output_type": "stream",
          "text": [
            "Label: [[0. 0. 0. 0. 0. 0. 1. 0. 0. 0.]]\n"
          ]
        },
        {
          "data": {
            "image/png": "[encoded data removed]",
            "text/plain": [
              "<Figure size 640x480 with 1 Axes>"
            ]
          },
          "metadata": {},
          "output_type": "display_data"
        }
      ],
      "source": [
        "print(\"Label:\",y_test[11:12])\n",
        "plt.imshow(x_test[11:12].reshape(28,28), cmap='gray')\n",
        "plt.show()"
      ]
    },
    {
      "cell_type": "markdown",
      "metadata": {
        "id": "LxehVPPuFEIM"
      },
      "source": [
        "#### Note: Images are also considered as numerical matrices"
      ]
    },
    {
      "cell_type": "markdown",
      "metadata": {
        "id": "MJPVBbSNFEIM"
      },
      "source": [
        "### Design a model"
      ]
    },
    {
      "cell_type": "code",
      "execution_count": null,
      "metadata": {
        "colab": {
          "base_uri": "https://localhost:8080/"
        },
        "id": "b_sbKpdxFEIM",
        "outputId": "6aa74666-f780-4fe0-b17a-6650eae5477b",
        "scrolled": true
      },
      "outputs": [
        {
          "name": "stdout",
          "output_type": "stream",
          "text": [
            "Model: \"sequential_1\"\n",
            "_________________________________________________________________\n",
            " Layer (type)                Output Shape              Param #   \n",
            "=================================================================\n",
            " dense_4 (Dense)             (None, 16)                12560     \n",
            "                                                                 \n",
            " dense_5 (Dense)             (None, 16)                272       \n",
            "                                                                 \n",
            " dense_6 (Dense)             (None, 2)                 34        \n",
            "                                                                 \n",
            " dense_7 (Dense)             (None, 10)                30        \n",
            "                                                                 \n",
            "=================================================================\n",
            "Total params: 12896 (50.38 KB)\n",
            "Trainable params: 12896 (50.38 KB)\n",
            "Non-trainable params: 0 (0.00 Byte)\n",
            "_________________________________________________________________\n"
          ]
        }
      ],
      "source": [
        "first_layer_size = 16\n",
        "model = Sequential()\n",
        "model.add(Dense(first_layer_size, activation='tanh', input_shape=(784,)))\n",
        "model.add(Dense(16, activation='sigmoid'))\n",
        "model.add(Dense(2, activation='tanh'))\n",
        "model.add(Dense(num_classes, activation='softmax'))#for multiclass\n",
        "\n",
        "model.summary()"
      ]
    },
    {
      "cell_type": "markdown",
      "metadata": {
        "id": "E6U5RezQFEIM"
      },
      "source": [
        "### Weights before Training"
      ]
    },
    {
      "cell_type": "code",
      "execution_count": null,
      "metadata": {
        "colab": {
          "base_uri": "https://localhost:8080/",
          "height": 702
        },
        "id": "aTcHUqNgFEIN",
        "outputId": "cba55c10-c45a-4382-e26b-070488680937"
      },
      "outputs": [
        {
          "name": "stdout",
          "output_type": "stream",
          "text": [
            "Shape of First Layer (784, 16)\n",
            "Visualization of First Layer\n"
          ]
        },
        {
          "data": {
            "image/png": "[encoded data removed]",
            "text/plain": [
              "<Figure size 1200x1200 with 16 Axes>"
            ]
          },
          "metadata": {},
          "output_type": "display_data"
        }
      ],
      "source": [
        "w = []\n",
        "for layer in model.layers:\n",
        "    weights = layer.get_weights()\n",
        "    w.append(weights)\n",
        "\n",
        "layer1 = np.array(w[0][0])\n",
        "print(\"Shape of First Layer\",layer1.shape)\n",
        "print(\"Visualization of First Layer\")\n",
        "fig=plt.figure(figsize=(12, 12))\n",
        "columns = 8\n",
        "rows = int(first_layer_size/8)\n",
        "for i in range(1, columns*rows +1):\n",
        "    fig.add_subplot(rows, columns, i)\n",
        "    plt.imshow(layer1[:,i-1].reshape(28,28),cmap='gray')\n",
        "plt.show()"
      ]
    },
    {
      "cell_type": "markdown",
      "metadata": {
        "id": "UMr856SjFEIN"
      },
      "source": [
        "### Compiling a Model"
      ]
    },
    {
      "cell_type": "code",
      "execution_count": null,
      "metadata": {
        "id": "gWg-aiQuFEIN",
        "scrolled": false
      },
      "outputs": [],
      "source": [
        "model.compile(loss='categorical_crossentropy',\n",
        "              optimizer=RMSprop(),\n",
        "              metrics=['accuracy'])"
      ]
    },
    {
      "cell_type": "markdown",
      "metadata": {
        "id": "D6eb35US1GcO"
      },
      "source": [
        "from keras.optimizers import RMSprop, SGD, Adam\n",
        "optimizers = {\n",
        "    \"RMSprop\": RMSprop(),\n",
        "    \"SGD\": SGD(),\n",
        "    \"Adam\": Adam()\n",
        "}\n",
        "\n",
        "for optimizer_name, optimizer in optimizers.items():\n",
        "    model.compile(loss='categorical_crossentropy',\n",
        "                  optimizer=optimizer,\n",
        "                  metrics=['accuracy'])\n",
        "    \n",
        "   "
      ]
    },
    {
      "cell_type": "code",
      "execution_count": null,
      "metadata": {
        "id": "O5tkCLDF019O"
      },
      "outputs": [],
      "source": []
    },
    {
      "cell_type": "markdown",
      "metadata": {
        "id": "8xLSVEFHFEIN"
      },
      "source": [
        "### Training"
      ]
    },
    {
      "cell_type": "code",
      "execution_count": null,
      "metadata": {
        "colab": {
          "base_uri": "https://localhost:8080/"
        },
        "id": "HfTB7_4FFEIN",
        "outputId": "adb0990c-4b3c-4f9d-e44a-0b32c20351c6"
      },
      "outputs": [
        {
          "name": "stdout",
          "output_type": "stream",
          "text": [
            "Epoch 1/4\n",
            "235/235 [==============================] - 1s 5ms/step - loss: 1.2117 - accuracy: 0.4584\n",
            "Epoch 2/4\n",
            "235/235 [==============================] - 1s 3ms/step - loss: 1.1639 - accuracy: 0.4778\n",
            "Epoch 3/4\n",
            "235/235 [==============================] - 1s 3ms/step - loss: 1.1277 - accuracy: 0.5030\n",
            "Epoch 4/4\n",
            "235/235 [==============================] - 1s 3ms/step - loss: 1.0981 - accuracy: 0.5242\n"
          ]
        }
      ],
      "source": [
        "# Write the Training input and output variables, size of the batch, number of epochs\n",
        "history = model.fit(x_train,y_train,\n",
        "                    batch_size=batch_size,\n",
        "                    epochs=4,\n",
        "                    verbose=1)"
      ]
    },
    {
      "cell_type": "markdown",
      "metadata": {
        "id": "5uBO1H9oFEIO"
      },
      "source": [
        "### Testing"
      ]
    },
    {
      "cell_type": "code",
      "execution_count": null,
      "metadata": {
        "colab": {
          "base_uri": "https://localhost:8080/"
        },
        "id": "5pypLCpCFEIO",
        "outputId": "0ffc9b65-104b-44e8-c086-7b0017a95d75"
      },
      "outputs": [
        {
          "name": "stdout",
          "output_type": "stream",
          "text": [
            "Test loss: 1.1050620079040527\n",
            "Test accuracy: 0.5217000246047974\n"
          ]
        }
      ],
      "source": [
        "# Write the testing input and output variables\n",
        "score = model.evaluate(x_test, y_test, verbose=0)\n",
        "print('Test loss:', score[0])\n",
        "print('Test accuracy:', score[1])"
      ]
    },
    {
      "cell_type": "markdown",
      "metadata": {
        "id": "qjkx2nTDFEIO"
      },
      "source": [
        "### Weights after Training"
      ]
    },
    {
      "cell_type": "code",
      "execution_count": null,
      "metadata": {
        "colab": {
          "base_uri": "https://localhost:8080/",
          "height": 702
        },
        "id": "XFbeig6lFEIO",
        "outputId": "e3dcede7-a055-4f94-fa27-45b7012bdb83"
      },
      "outputs": [
        {
          "name": "stdout",
          "output_type": "stream",
          "text": [
            "Shape of First Layer (784, 16)\n",
            "Visualization of First Layer\n"
          ]
        },
        {
          "data": {
            "image/png": "[encoded data removed]",
            "text/plain": [
              "<Figure size 1200x1200 with 16 Axes>"
            ]
          },
          "metadata": {},
          "output_type": "display_data"
        }
      ],
      "source": [
        "w = []\n",
        "for layer in model.layers:\n",
        "    weights = layer.get_weights()\n",
        "    w.append(weights)\n",
        "\n",
        "layer1 = np.array(w[0][0])\n",
        "print(\"Shape of First Layer\",layer1.shape)\n",
        "print(\"Visualization of First Layer\")\n",
        "fig=plt.figure(figsize=(12, 12))\n",
        "columns = 8\n",
        "rows = int(first_layer_size/8)\n",
        "for i in range(1, columns*rows +1):\n",
        "    fig.add_subplot(rows, columns, i)\n",
        "    plt.imshow(layer1[:,i-1].reshape(28,28),cmap='gray')\n",
        "plt.show()"
      ]
    },
    {
      "cell_type": "markdown",
      "metadata": {
        "id": "aty6ZIQNFEIP"
      },
      "source": [
        "### Take away\n",
        "* This internal representation reflects Latent Variables\n",
        "* Each of the nodes will look for a specific pattern in the input\n",
        "* A node will get activated if input is similar to the feature it looks for\n",
        "* Each node is unique and often orthogonal to each other"
      ]
    },
    {
      "cell_type": "markdown",
      "metadata": {
        "id": "J6L4eE2RFEIP"
      },
      "source": [
        "### Prediction"
      ]
    },
    {
      "cell_type": "code",
      "execution_count": null,
      "metadata": {
        "colab": {
          "base_uri": "https://localhost:8080/"
        },
        "id": "vJiZ5-4dFEIP",
        "outputId": "7711b683-96e7-4836-a121-dcc1cf5dadc6"
      },
      "outputs": [
        {
          "name": "stdout",
          "output_type": "stream",
          "text": [
            "1/1 [==============================] - 0s 103ms/step\n",
            "[[1.38067305e-02 1.26285711e-04 1.66874565e-02 1.35693476e-02\n",
            "  1.51921194e-02 1.65474298e-03 7.44468207e-03 5.29364288e-01\n",
            "  2.81233061e-03 3.99341971e-01]]\n",
            "Prediction\n",
            " [1.38067305e-02 1.26285711e-04 1.66874565e-02 1.35693476e-02\n",
            " 1.51921194e-02 1.65474298e-03 7.44468207e-03 5.29364288e-01\n",
            " 2.81233061e-03 3.99341971e-01]\n",
            "\n",
            "Thresholded output\n",
            " [0 0 0 0 0 0 0 1 0 0]\n"
          ]
        }
      ],
      "source": [
        "# Write the index of the test sample to test\n",
        "prediction = model.predict(x_test[75:76])\n",
        "print(prediction)\n",
        "prediction = prediction[0]\n",
        "print('Prediction\\n',prediction)\n",
        "print('\\nThresholded output\\n',(prediction>0.5)*1)"
      ]
    },
    {
      "cell_type": "markdown",
      "metadata": {
        "id": "DumbKqFCFEIP"
      },
      "source": [
        "### Ground truth"
      ]
    },
    {
      "cell_type": "code",
      "execution_count": null,
      "metadata": {
        "colab": {
          "base_uri": "https://localhost:8080/",
          "height": 430
        },
        "id": "x2wmBj9JFEIQ",
        "outputId": "73ecffac-3b6a-4097-a494-14b2f8bd6bed"
      },
      "outputs": [
        {
          "data": {
            "image/png": "[encoded data removed]",
            "text/plain": [
              "<Figure size 640x480 with 1 Axes>"
            ]
          },
          "metadata": {},
          "output_type": "display_data"
        }
      ],
      "source": [
        "# Write the index of the test sample to show\n",
        "plt.imshow(x_test[75:76].reshape(28,28),cmap='gray')\n",
        "plt.show()"
      ]
    },
    {
      "cell_type": "markdown",
      "metadata": {
        "id": "GSkEKt32FEIQ"
      },
      "source": [
        "### User Input"
      ]
    },
    {
      "cell_type": "code",
      "execution_count": null,
      "metadata": {
        "colab": {
          "base_uri": "https://localhost:8080/"
        },
        "id": "hkS0Fmw5FEIQ",
        "outputId": "de63df96-baef-4766-ea7a-542848d8842c"
      },
      "outputs": [
        {
          "name": "stdout",
          "output_type": "stream",
          "text": [
            "Error: Image not loaded. Please check the file path.\n"
          ]
        }
      ],
      "source": [
        "# Load library\n",
        "import cv2\n",
        "import numpy as np\n",
        "from matplotlib import pyplot as plt\n",
        "\n",
        "# Load image in color (Update the file path according to your directory structure)\n",
        "image_bgr = cv2.imread('path/to/your/image/digit.jpg', cv2.IMREAD_COLOR)\n",
        "\n",
        "# Check if the image is successfully loaded\n",
        "if image_bgr is None:\n",
        "    print(\"Error: Image not loaded. Please check the file path.\")\n",
        "else:\n",
        "    # Convert to RGB\n",
        "    image_rgb = cv2.cvtColor(image_bgr, cv2.COLOR_BGR2RGB)\n",
        "\n",
        "    # Show image\n",
        "    plt.imshow(image_rgb)\n",
        "    plt.axis(\"off\")\n",
        "    plt.show()\n"
      ]
    },
    {
      "cell_type": "code",
      "execution_count": null,
      "metadata": {
        "colab": {
          "background_save": true
        },
        "id": "ltDrOYbEvcBc",
        "outputId": "98eb6786-990a-4035-d320-ea1d6e05c06c"
      },
      "outputs": [
        {
          "name": "stdout",
          "output_type": "stream",
          "text": [
            "Mounted at /content/drive\n"
          ]
        }
      ],
      "source": [
        "from google.colab import drive\n",
        "drive.mount('/content/drive')"
      ]
    },
    {
      "cell_type": "markdown",
      "metadata": {
        "id": "2_CTAFYJFEIQ"
      },
      "source": [
        "### Convert to grayscale and resize"
      ]
    },
    {
      "cell_type": "code",
      "execution_count": null,
      "metadata": {
        "id": "FSYulZdyFEIQ"
      },
      "outputs": [],
      "source": [
        "# Load image as grayscale\n",
        "\n",
        "# Write the path to the image\n",
        "\n",
        "image = cv2.imread('/content/drive/MyDrive/digit.jpg', cv2.IMREAD_GRAYSCALE)\n",
        "image_resized = cv2.resize(image, (28, 28))\n",
        "# Show image\n",
        "plt.imshow(image_resized, cmap='gray'), plt.axis(\"off\")\n",
        "plt.show()"
      ]
    },
    {
      "cell_type": "markdown",
      "metadata": {
        "id": "yLAZfcSAFEIR"
      },
      "source": [
        "### Prediction"
      ]
    },
    {
      "cell_type": "code",
      "execution_count": null,
      "metadata": {
        "colab": {
          "base_uri": "https://localhost:8080/",
          "height": 748
        },
        "id": "H5XlfbJM8dpD",
        "outputId": "7c9d3a6f-62f5-4a20-aeca-be7fd4707bda"
      },
      "outputs": [
        {
          "ename": "ValueError",
          "evalue": "ignored",
          "output_type": "error",
          "traceback": [
            "\u001b[0;31m---------------------------------------------------------------------------\u001b[0m",
            "\u001b[0;31mValueError\u001b[0m                                Traceback (most recent call last)",
            "\u001b[0;32m<ipython-input-52-120fd6a05f20>\u001b[0m in \u001b[0;36m<module>\u001b[0;34m()\u001b[0m\n\u001b[1;32m      1\u001b[0m \u001b[0;31m# Write the index of the test sample to test\u001b[0m\u001b[0;34m\u001b[0m\u001b[0;34m\u001b[0m\u001b[0;34m\u001b[0m\u001b[0m\n\u001b[0;32m----> 2\u001b[0;31m \u001b[0mprediction\u001b[0m \u001b[0;34m=\u001b[0m \u001b[0mmodel\u001b[0m\u001b[0;34m.\u001b[0m\u001b[0mpredict\u001b[0m\u001b[0;34m(\u001b[0m\u001b[0mimage_resized\u001b[0m\u001b[0;34m)\u001b[0m\u001b[0;34m\u001b[0m\u001b[0;34m\u001b[0m\u001b[0m\n\u001b[0m\u001b[1;32m      3\u001b[0m \u001b[0mprediction\u001b[0m \u001b[0;34m=\u001b[0m \u001b[0mprediction\u001b[0m\u001b[0;34m[\u001b[0m\u001b[0;36m0\u001b[0m\u001b[0;34m]\u001b[0m\u001b[0;34m\u001b[0m\u001b[0;34m\u001b[0m\u001b[0m\n\u001b[1;32m      4\u001b[0m \u001b[0mprint\u001b[0m\u001b[0;34m(\u001b[0m\u001b[0;34m'Prediction\\n'\u001b[0m\u001b[0;34m,\u001b[0m\u001b[0mprediction\u001b[0m\u001b[0;34m)\u001b[0m\u001b[0;34m\u001b[0m\u001b[0;34m\u001b[0m\u001b[0m\n\u001b[1;32m      5\u001b[0m \u001b[0mprint\u001b[0m\u001b[0;34m(\u001b[0m\u001b[0;34m'\\nThresholded output\\n'\u001b[0m\u001b[0;34m,\u001b[0m\u001b[0;34m(\u001b[0m\u001b[0mprediction\u001b[0m\u001b[0;34m>\u001b[0m\u001b[0;36m0.5\u001b[0m\u001b[0;34m)\u001b[0m\u001b[0;34m*\u001b[0m\u001b[0;36m1\u001b[0m\u001b[0;34m)\u001b[0m\u001b[0;34m\u001b[0m\u001b[0;34m\u001b[0m\u001b[0m\n",
            "\u001b[0;32m/usr/local/lib/python3.7/dist-packages/tensorflow/python/keras/engine/training.py\u001b[0m in \u001b[0;36mpredict\u001b[0;34m(self, x, batch_size, verbose, steps, callbacks, max_queue_size, workers, use_multiprocessing)\u001b[0m\n\u001b[1;32m   1627\u001b[0m           \u001b[0;32mfor\u001b[0m \u001b[0mstep\u001b[0m \u001b[0;32min\u001b[0m \u001b[0mdata_handler\u001b[0m\u001b[0;34m.\u001b[0m\u001b[0msteps\u001b[0m\u001b[0;34m(\u001b[0m\u001b[0;34m)\u001b[0m\u001b[0;34m:\u001b[0m\u001b[0;34m\u001b[0m\u001b[0;34m\u001b[0m\u001b[0m\n\u001b[1;32m   1628\u001b[0m             \u001b[0mcallbacks\u001b[0m\u001b[0;34m.\u001b[0m\u001b[0mon_predict_batch_begin\u001b[0m\u001b[0;34m(\u001b[0m\u001b[0mstep\u001b[0m\u001b[0;34m)\u001b[0m\u001b[0;34m\u001b[0m\u001b[0;34m\u001b[0m\u001b[0m\n\u001b[0;32m-> 1629\u001b[0;31m             \u001b[0mtmp_batch_outputs\u001b[0m \u001b[0;34m=\u001b[0m \u001b[0mself\u001b[0m\u001b[0;34m.\u001b[0m\u001b[0mpredict_function\u001b[0m\u001b[0;34m(\u001b[0m\u001b[0miterator\u001b[0m\u001b[0;34m)\u001b[0m\u001b[0;34m\u001b[0m\u001b[0;34m\u001b[0m\u001b[0m\n\u001b[0m\u001b[1;32m   1630\u001b[0m             \u001b[0;32mif\u001b[0m \u001b[0mdata_handler\u001b[0m\u001b[0;34m.\u001b[0m\u001b[0mshould_sync\u001b[0m\u001b[0;34m:\u001b[0m\u001b[0;34m\u001b[0m\u001b[0;34m\u001b[0m\u001b[0m\n\u001b[1;32m   1631\u001b[0m               \u001b[0mcontext\u001b[0m\u001b[0;34m.\u001b[0m\u001b[0masync_wait\u001b[0m\u001b[0;34m(\u001b[0m\u001b[0;34m)\u001b[0m\u001b[0;34m\u001b[0m\u001b[0;34m\u001b[0m\u001b[0m\n",
            "\u001b[0;32m/usr/local/lib/python3.7/dist-packages/tensorflow/python/eager/def_function.py\u001b[0m in \u001b[0;36m__call__\u001b[0;34m(self, *args, **kwds)\u001b[0m\n\u001b[1;32m    826\u001b[0m     \u001b[0mtracing_count\u001b[0m \u001b[0;34m=\u001b[0m \u001b[0mself\u001b[0m\u001b[0;34m.\u001b[0m\u001b[0mexperimental_get_tracing_count\u001b[0m\u001b[0;34m(\u001b[0m\u001b[0;34m)\u001b[0m\u001b[0;34m\u001b[0m\u001b[0;34m\u001b[0m\u001b[0m\n\u001b[1;32m    827\u001b[0m     \u001b[0;32mwith\u001b[0m \u001b[0mtrace\u001b[0m\u001b[0;34m.\u001b[0m\u001b[0mTrace\u001b[0m\u001b[0;34m(\u001b[0m\u001b[0mself\u001b[0m\u001b[0;34m.\u001b[0m\u001b[0m_name\u001b[0m\u001b[0;34m)\u001b[0m \u001b[0;32mas\u001b[0m \u001b[0mtm\u001b[0m\u001b[0;34m:\u001b[0m\u001b[0;34m\u001b[0m\u001b[0;34m\u001b[0m\u001b[0m\n\u001b[0;32m--> 828\u001b[0;31m       \u001b[0mresult\u001b[0m \u001b[0;34m=\u001b[0m \u001b[0mself\u001b[0m\u001b[0;34m.\u001b[0m\u001b[0m_call\u001b[0m\u001b[0;34m(\u001b[0m\u001b[0;34m*\u001b[0m\u001b[0margs\u001b[0m\u001b[0;34m,\u001b[0m \u001b[0;34m**\u001b[0m\u001b[0mkwds\u001b[0m\u001b[0;34m)\u001b[0m\u001b[0;34m\u001b[0m\u001b[0;34m\u001b[0m\u001b[0m\n\u001b[0m\u001b[1;32m    829\u001b[0m       \u001b[0mcompiler\u001b[0m \u001b[0;34m=\u001b[0m \u001b[0;34m\"xla\"\u001b[0m \u001b[0;32mif\u001b[0m \u001b[0mself\u001b[0m\u001b[0;34m.\u001b[0m\u001b[0m_experimental_compile\u001b[0m \u001b[0;32melse\u001b[0m \u001b[0;34m\"nonXla\"\u001b[0m\u001b[0;34m\u001b[0m\u001b[0;34m\u001b[0m\u001b[0m\n\u001b[1;32m    830\u001b[0m       \u001b[0mnew_tracing_count\u001b[0m \u001b[0;34m=\u001b[0m \u001b[0mself\u001b[0m\u001b[0;34m.\u001b[0m\u001b[0mexperimental_get_tracing_count\u001b[0m\u001b[0;34m(\u001b[0m\u001b[0;34m)\u001b[0m\u001b[0;34m\u001b[0m\u001b[0;34m\u001b[0m\u001b[0m\n",
            "\u001b[0;32m/usr/local/lib/python3.7/dist-packages/tensorflow/python/eager/def_function.py\u001b[0m in \u001b[0;36m_call\u001b[0;34m(self, *args, **kwds)\u001b[0m\n\u001b[1;32m    860\u001b[0m       \u001b[0;31m# In this case we have not created variables on the first call. So we can\u001b[0m\u001b[0;34m\u001b[0m\u001b[0;34m\u001b[0m\u001b[0;34m\u001b[0m\u001b[0m\n\u001b[1;32m    861\u001b[0m       \u001b[0;31m# run the first trace but we should fail if variables are created.\u001b[0m\u001b[0;34m\u001b[0m\u001b[0;34m\u001b[0m\u001b[0;34m\u001b[0m\u001b[0m\n\u001b[0;32m--> 862\u001b[0;31m       \u001b[0mresults\u001b[0m \u001b[0;34m=\u001b[0m \u001b[0mself\u001b[0m\u001b[0;34m.\u001b[0m\u001b[0m_stateful_fn\u001b[0m\u001b[0;34m(\u001b[0m\u001b[0;34m*\u001b[0m\u001b[0margs\u001b[0m\u001b[0;34m,\u001b[0m \u001b[0;34m**\u001b[0m\u001b[0mkwds\u001b[0m\u001b[0;34m)\u001b[0m\u001b[0;34m\u001b[0m\u001b[0;34m\u001b[0m\u001b[0m\n\u001b[0m\u001b[1;32m    863\u001b[0m       \u001b[0;32mif\u001b[0m \u001b[0mself\u001b[0m\u001b[0;34m.\u001b[0m\u001b[0m_created_variables\u001b[0m\u001b[0;34m:\u001b[0m\u001b[0;34m\u001b[0m\u001b[0;34m\u001b[0m\u001b[0m\n\u001b[1;32m    864\u001b[0m         raise ValueError(\"Creating variables on a non-first call to a function\"\n",
            "\u001b[0;32m/usr/local/lib/python3.7/dist-packages/tensorflow/python/eager/function.py\u001b[0m in \u001b[0;36m__call__\u001b[0;34m(self, *args, **kwargs)\u001b[0m\n\u001b[1;32m   2939\u001b[0m     \u001b[0;32mwith\u001b[0m \u001b[0mself\u001b[0m\u001b[0;34m.\u001b[0m\u001b[0m_lock\u001b[0m\u001b[0;34m:\u001b[0m\u001b[0;34m\u001b[0m\u001b[0;34m\u001b[0m\u001b[0m\n\u001b[1;32m   2940\u001b[0m       (graph_function,\n\u001b[0;32m-> 2941\u001b[0;31m        filtered_flat_args) = self._maybe_define_function(args, kwargs)\n\u001b[0m\u001b[1;32m   2942\u001b[0m     return graph_function._call_flat(\n\u001b[1;32m   2943\u001b[0m         filtered_flat_args, captured_inputs=graph_function.captured_inputs)  # pylint: disable=protected-access\n",
            "\u001b[0;32m/usr/local/lib/python3.7/dist-packages/tensorflow/python/eager/function.py\u001b[0m in \u001b[0;36m_maybe_define_function\u001b[0;34m(self, args, kwargs)\u001b[0m\n\u001b[1;32m   3356\u001b[0m               call_context_key in self._function_cache.missed):\n\u001b[1;32m   3357\u001b[0m             return self._define_function_with_shape_relaxation(\n\u001b[0;32m-> 3358\u001b[0;31m                 args, kwargs, flat_args, filtered_flat_args, cache_key_context)\n\u001b[0m\u001b[1;32m   3359\u001b[0m \u001b[0;34m\u001b[0m\u001b[0m\n\u001b[1;32m   3360\u001b[0m           \u001b[0mself\u001b[0m\u001b[0;34m.\u001b[0m\u001b[0m_function_cache\u001b[0m\u001b[0;34m.\u001b[0m\u001b[0mmissed\u001b[0m\u001b[0;34m.\u001b[0m\u001b[0madd\u001b[0m\u001b[0;34m(\u001b[0m\u001b[0mcall_context_key\u001b[0m\u001b[0;34m)\u001b[0m\u001b[0;34m\u001b[0m\u001b[0;34m\u001b[0m\u001b[0m\n",
            "\u001b[0;32m/usr/local/lib/python3.7/dist-packages/tensorflow/python/eager/function.py\u001b[0m in \u001b[0;36m_define_function_with_shape_relaxation\u001b[0;34m(self, args, kwargs, flat_args, filtered_flat_args, cache_key_context)\u001b[0m\n\u001b[1;32m   3278\u001b[0m \u001b[0;34m\u001b[0m\u001b[0m\n\u001b[1;32m   3279\u001b[0m     graph_function = self._create_graph_function(\n\u001b[0;32m-> 3280\u001b[0;31m         args, kwargs, override_flat_arg_shapes=relaxed_arg_shapes)\n\u001b[0m\u001b[1;32m   3281\u001b[0m     \u001b[0mself\u001b[0m\u001b[0;34m.\u001b[0m\u001b[0m_function_cache\u001b[0m\u001b[0;34m.\u001b[0m\u001b[0marg_relaxed\u001b[0m\u001b[0;34m[\u001b[0m\u001b[0mrank_only_cache_key\u001b[0m\u001b[0;34m]\u001b[0m \u001b[0;34m=\u001b[0m \u001b[0mgraph_function\u001b[0m\u001b[0;34m\u001b[0m\u001b[0;34m\u001b[0m\u001b[0m\n\u001b[1;32m   3282\u001b[0m \u001b[0;34m\u001b[0m\u001b[0m\n",
            "\u001b[0;32m/usr/local/lib/python3.7/dist-packages/tensorflow/python/eager/function.py\u001b[0m in \u001b[0;36m_create_graph_function\u001b[0;34m(self, args, kwargs, override_flat_arg_shapes)\u001b[0m\n\u001b[1;32m   3204\u001b[0m             \u001b[0marg_names\u001b[0m\u001b[0;34m=\u001b[0m\u001b[0marg_names\u001b[0m\u001b[0;34m,\u001b[0m\u001b[0;34m\u001b[0m\u001b[0;34m\u001b[0m\u001b[0m\n\u001b[1;32m   3205\u001b[0m             \u001b[0moverride_flat_arg_shapes\u001b[0m\u001b[0;34m=\u001b[0m\u001b[0moverride_flat_arg_shapes\u001b[0m\u001b[0;34m,\u001b[0m\u001b[0;34m\u001b[0m\u001b[0;34m\u001b[0m\u001b[0m\n\u001b[0;32m-> 3206\u001b[0;31m             capture_by_value=self._capture_by_value),\n\u001b[0m\u001b[1;32m   3207\u001b[0m         \u001b[0mself\u001b[0m\u001b[0;34m.\u001b[0m\u001b[0m_function_attributes\u001b[0m\u001b[0;34m,\u001b[0m\u001b[0;34m\u001b[0m\u001b[0;34m\u001b[0m\u001b[0m\n\u001b[1;32m   3208\u001b[0m         \u001b[0mfunction_spec\u001b[0m\u001b[0;34m=\u001b[0m\u001b[0mself\u001b[0m\u001b[0;34m.\u001b[0m\u001b[0mfunction_spec\u001b[0m\u001b[0;34m,\u001b[0m\u001b[0;34m\u001b[0m\u001b[0;34m\u001b[0m\u001b[0m\n",
            "\u001b[0;32m/usr/local/lib/python3.7/dist-packages/tensorflow/python/framework/func_graph.py\u001b[0m in \u001b[0;36mfunc_graph_from_py_func\u001b[0;34m(name, python_func, args, kwargs, signature, func_graph, autograph, autograph_options, add_control_dependencies, arg_names, op_return_value, collections, capture_by_value, override_flat_arg_shapes)\u001b[0m\n\u001b[1;32m    988\u001b[0m         \u001b[0m_\u001b[0m\u001b[0;34m,\u001b[0m \u001b[0moriginal_func\u001b[0m \u001b[0;34m=\u001b[0m \u001b[0mtf_decorator\u001b[0m\u001b[0;34m.\u001b[0m\u001b[0munwrap\u001b[0m\u001b[0;34m(\u001b[0m\u001b[0mpython_func\u001b[0m\u001b[0;34m)\u001b[0m\u001b[0;34m\u001b[0m\u001b[0;34m\u001b[0m\u001b[0m\n\u001b[1;32m    989\u001b[0m \u001b[0;34m\u001b[0m\u001b[0m\n\u001b[0;32m--> 990\u001b[0;31m       \u001b[0mfunc_outputs\u001b[0m \u001b[0;34m=\u001b[0m \u001b[0mpython_func\u001b[0m\u001b[0;34m(\u001b[0m\u001b[0;34m*\u001b[0m\u001b[0mfunc_args\u001b[0m\u001b[0;34m,\u001b[0m \u001b[0;34m**\u001b[0m\u001b[0mfunc_kwargs\u001b[0m\u001b[0;34m)\u001b[0m\u001b[0;34m\u001b[0m\u001b[0;34m\u001b[0m\u001b[0m\n\u001b[0m\u001b[1;32m    991\u001b[0m \u001b[0;34m\u001b[0m\u001b[0m\n\u001b[1;32m    992\u001b[0m       \u001b[0;31m# invariant: `func_outputs` contains only Tensors, CompositeTensors,\u001b[0m\u001b[0;34m\u001b[0m\u001b[0;34m\u001b[0m\u001b[0;34m\u001b[0m\u001b[0m\n",
            "\u001b[0;32m/usr/local/lib/python3.7/dist-packages/tensorflow/python/eager/def_function.py\u001b[0m in \u001b[0;36mwrapped_fn\u001b[0;34m(*args, **kwds)\u001b[0m\n\u001b[1;32m    632\u001b[0m             \u001b[0mxla_context\u001b[0m\u001b[0;34m.\u001b[0m\u001b[0mExit\u001b[0m\u001b[0;34m(\u001b[0m\u001b[0;34m)\u001b[0m\u001b[0;34m\u001b[0m\u001b[0;34m\u001b[0m\u001b[0m\n\u001b[1;32m    633\u001b[0m         \u001b[0;32melse\u001b[0m\u001b[0;34m:\u001b[0m\u001b[0;34m\u001b[0m\u001b[0;34m\u001b[0m\u001b[0m\n\u001b[0;32m--> 634\u001b[0;31m           \u001b[0mout\u001b[0m \u001b[0;34m=\u001b[0m \u001b[0mweak_wrapped_fn\u001b[0m\u001b[0;34m(\u001b[0m\u001b[0;34m)\u001b[0m\u001b[0;34m.\u001b[0m\u001b[0m__wrapped__\u001b[0m\u001b[0;34m(\u001b[0m\u001b[0;34m*\u001b[0m\u001b[0margs\u001b[0m\u001b[0;34m,\u001b[0m \u001b[0;34m**\u001b[0m\u001b[0mkwds\u001b[0m\u001b[0;34m)\u001b[0m\u001b[0;34m\u001b[0m\u001b[0;34m\u001b[0m\u001b[0m\n\u001b[0m\u001b[1;32m    635\u001b[0m         \u001b[0;32mreturn\u001b[0m \u001b[0mout\u001b[0m\u001b[0;34m\u001b[0m\u001b[0;34m\u001b[0m\u001b[0m\n\u001b[1;32m    636\u001b[0m \u001b[0;34m\u001b[0m\u001b[0m\n",
            "\u001b[0;32m/usr/local/lib/python3.7/dist-packages/tensorflow/python/framework/func_graph.py\u001b[0m in \u001b[0;36mwrapper\u001b[0;34m(*args, **kwargs)\u001b[0m\n\u001b[1;32m    975\u001b[0m           \u001b[0;32mexcept\u001b[0m \u001b[0mException\u001b[0m \u001b[0;32mas\u001b[0m \u001b[0me\u001b[0m\u001b[0;34m:\u001b[0m  \u001b[0;31m# pylint:disable=broad-except\u001b[0m\u001b[0;34m\u001b[0m\u001b[0;34m\u001b[0m\u001b[0m\n\u001b[1;32m    976\u001b[0m             \u001b[0;32mif\u001b[0m \u001b[0mhasattr\u001b[0m\u001b[0;34m(\u001b[0m\u001b[0me\u001b[0m\u001b[0;34m,\u001b[0m \u001b[0;34m\"ag_error_metadata\"\u001b[0m\u001b[0;34m)\u001b[0m\u001b[0;34m:\u001b[0m\u001b[0;34m\u001b[0m\u001b[0;34m\u001b[0m\u001b[0m\n\u001b[0;32m--> 977\u001b[0;31m               \u001b[0;32mraise\u001b[0m \u001b[0me\u001b[0m\u001b[0;34m.\u001b[0m\u001b[0mag_error_metadata\u001b[0m\u001b[0;34m.\u001b[0m\u001b[0mto_exception\u001b[0m\u001b[0;34m(\u001b[0m\u001b[0me\u001b[0m\u001b[0;34m)\u001b[0m\u001b[0;34m\u001b[0m\u001b[0;34m\u001b[0m\u001b[0m\n\u001b[0m\u001b[1;32m    978\u001b[0m             \u001b[0;32melse\u001b[0m\u001b[0;34m:\u001b[0m\u001b[0;34m\u001b[0m\u001b[0;34m\u001b[0m\u001b[0m\n\u001b[1;32m    979\u001b[0m               \u001b[0;32mraise\u001b[0m\u001b[0;34m\u001b[0m\u001b[0;34m\u001b[0m\u001b[0m\n",
            "\u001b[0;31mValueError\u001b[0m: in user code:\n\n    /usr/local/lib/python3.7/dist-packages/tensorflow/python/keras/engine/training.py:1478 predict_function  *\n        return step_function(self, iterator)\n    /usr/local/lib/python3.7/dist-packages/tensorflow/python/keras/engine/training.py:1468 step_function  **\n        outputs = model.distribute_strategy.run(run_step, args=(data,))\n    /usr/local/lib/python3.7/dist-packages/tensorflow/python/distribute/distribute_lib.py:1259 run\n        return self._extended.call_for_each_replica(fn, args=args, kwargs=kwargs)\n    /usr/local/lib/python3.7/dist-packages/tensorflow/python/distribute/distribute_lib.py:2730 call_for_each_replica\n        return self._call_for_each_replica(fn, args, kwargs)\n    /usr/local/lib/python3.7/dist-packages/tensorflow/python/distribute/distribute_lib.py:3417 _call_for_each_replica\n        return fn(*args, **kwargs)\n    /usr/local/lib/python3.7/dist-packages/tensorflow/python/keras/engine/training.py:1461 run_step  **\n        outputs = model.predict_step(data)\n    /usr/local/lib/python3.7/dist-packages/tensorflow/python/keras/engine/training.py:1434 predict_step\n        return self(x, training=False)\n    /usr/local/lib/python3.7/dist-packages/tensorflow/python/keras/engine/base_layer.py:998 __call__\n        input_spec.assert_input_compatibility(self.input_spec, inputs, self.name)\n    /usr/local/lib/python3.7/dist-packages/tensorflow/python/keras/engine/input_spec.py:259 assert_input_compatibility\n        ' but received input with shape ' + display_shape(x.shape))\n\n    ValueError: Input 0 of layer sequential_3 is incompatible with the layer: expected axis -1 of input shape to have value 784 but received input with shape (None, 28)\n"
          ]
        }
      ],
      "source": [
        "# Write the index of the test sample to test\n",
        "prediction = model.predict(image_resized)\n",
        "prediction = prediction[0]\n",
        "print('Prediction\\n',prediction)\n",
        "print('\\nThresholded output\\n',(prediction>0.5)*1)"
      ]
    },
    {
      "cell_type": "markdown",
      "metadata": {
        "id": "b1xRpdfCFEIR"
      },
      "source": [
        "# Part 2: Saving, Loading and Retraining Models"
      ]
    },
    {
      "cell_type": "markdown",
      "metadata": {
        "id": "ucRWaq64FEIR"
      },
      "source": [
        "### Saving a model"
      ]
    },
    {
      "cell_type": "code",
      "execution_count": null,
      "metadata": {
        "id": "uwsnGMXgFEIS",
        "outputId": "cc56dbd2-55b0-4585-bccb-c1540cedc2e5",
        "scrolled": true
      },
      "outputs": [
        {
          "name": "stdout",
          "output_type": "stream",
          "text": [
            "Saved model to disk\n"
          ]
        }
      ],
      "source": [
        "# serialize model to JSON\n",
        "model_json = model.to_json()\n",
        "\n",
        "# Write the file name of the model\n",
        "\n",
        "with open(\"model.json\", \"w\") as json_file:\n",
        "    json_file.write(model_json)\n",
        "\n",
        "# serialize weights to HDF5\n",
        "# Write the file name of the weights\n",
        "\n",
        "model.save_weights(\"model.h5\")\n",
        "print(\"Saved model to disk\")"
      ]
    },
    {
      "cell_type": "markdown",
      "metadata": {
        "id": "yyvglNdDFEIS"
      },
      "source": [
        "### Loading a model"
      ]
    },
    {
      "cell_type": "code",
      "execution_count": null,
      "metadata": {
        "id": "bdghKtlaFEIS",
        "outputId": "9d3fcf20-2ce1-4c66-c70f-8c523b281263",
        "scrolled": true
      },
      "outputs": [
        {
          "name": "stdout",
          "output_type": "stream",
          "text": [
            "Loaded model from disk\n"
          ]
        }
      ],
      "source": [
        "# load json and create model\n",
        "\n",
        "# Write the file name of the model\n",
        "\n",
        "json_file = open('model.json', 'r')\n",
        "loaded_model_json = json_file.read()\n",
        "json_file.close()\n",
        "loaded_model = model_from_json(loaded_model_json)\n",
        "\n",
        "# load weights into new model\n",
        "# Write the file name of the weights\n",
        "\n",
        "loaded_model.load_weights(\"model.h5\")\n",
        "print(\"Loaded model from disk\")"
      ]
    },
    {
      "cell_type": "markdown",
      "metadata": {
        "id": "Vv54s0VLFEIS"
      },
      "source": [
        "### Retraining a model"
      ]
    },
    {
      "cell_type": "code",
      "execution_count": null,
      "metadata": {
        "id": "gjLCF4RNFEIS",
        "outputId": "7d940c34-ad21-496a-d2eb-22a31078b32c"
      },
      "outputs": [
        {
          "name": "stdout",
          "output_type": "stream",
          "text": [
            "Epoch 1/2\n",
            "60000/60000 [==============================] - 2s - loss: 0.3694 - acc: 0.9018     \n",
            "Epoch 2/2\n",
            "60000/60000 [==============================] - 2s - loss: 0.2892 - acc: 0.9208     \n",
            "Test loss: 0.26339185618162153\n",
            "Test accuracy: 0.9265\n"
          ]
        }
      ],
      "source": [
        "loaded_model.compile(loss='categorical_crossentropy', optimizer=RMSprop(), metrics=['accuracy'])\n",
        "\n",
        "history = loaded_model.fit(x_train, y_train, batch_size=batch_size, epochs=epochs, verbose=1)\n",
        "score = loaded_model.evaluate(x_test, y_test, verbose=0)\n",
        "print('Test loss:', score[0])\n",
        "print('Test accuracy:', score[1])"
      ]
    },
    {
      "cell_type": "markdown",
      "metadata": {
        "id": "wcjiABWDFEIT"
      },
      "source": [
        "### Saving a model and resuming the training later is the great relief in training large neural networks !"
      ]
    },
    {
      "cell_type": "markdown",
      "metadata": {
        "id": "HpWbwtp4FEIT"
      },
      "source": [
        "# Part 3: Activation Functions"
      ]
    },
    {
      "cell_type": "markdown",
      "metadata": {
        "id": "Ganufu1rFEIU"
      },
      "source": [
        "### Sigmoid Activation Function"
      ]
    },
    {
      "cell_type": "code",
      "execution_count": null,
      "metadata": {
        "id": "ezM87Pk_FEIU",
        "outputId": "27745211-947e-477d-f1a7-5327c6572866"
      },
      "outputs": [
        {
          "name": "stdout",
          "output_type": "stream",
          "text": [
            "_________________________________________________________________\n",
            "Layer (type)                 Output Shape              Param #   \n",
            "=================================================================\n",
            "dense_5 (Dense)              (None, 8)                 6280      \n",
            "_________________________________________________________________\n",
            "dense_6 (Dense)              (None, 8)                 72        \n",
            "_________________________________________________________________\n",
            "dense_7 (Dense)              (None, 10)                90        \n",
            "=================================================================\n",
            "Total params: 6,442\n",
            "Trainable params: 6,442\n",
            "Non-trainable params: 0\n",
            "_________________________________________________________________\n",
            "Train on 60000 samples, validate on 10000 samples\n",
            "Epoch 1/10\n",
            "60000/60000 [==============================] - 3s - loss: 2.0296 - acc: 0.4231 - val_loss: 1.7575 - val_acc: 0.5833\n",
            "Epoch 2/10\n",
            "60000/60000 [==============================] - 2s - loss: 1.5027 - acc: 0.6944 - val_loss: 1.2493 - val_acc: 0.7344\n",
            "Epoch 3/10\n",
            "60000/60000 [==============================] - 3s - loss: 1.0668 - acc: 0.7538 - val_loss: 0.8963 - val_acc: 0.7933\n",
            "Epoch 4/10\n",
            "60000/60000 [==============================] - 2s - loss: 0.7874 - acc: 0.8110 - val_loss: 0.6864 - val_acc: 0.8273\n",
            "Epoch 5/10\n",
            "60000/60000 [==============================] - 2s - loss: 0.6325 - acc: 0.8365 - val_loss: 0.5790 - val_acc: 0.8497\n",
            "Epoch 6/10\n",
            "60000/60000 [==============================] - 2s - loss: 0.5480 - acc: 0.8542 - val_loss: 0.5164 - val_acc: 0.8658\n",
            "Epoch 7/10\n",
            "60000/60000 [==============================] - 3s - loss: 0.4931 - acc: 0.8694 - val_loss: 0.4719 - val_acc: 0.8763\n",
            "Epoch 8/10\n",
            "60000/60000 [==============================] - 3s - loss: 0.4527 - acc: 0.8789 - val_loss: 0.4393 - val_acc: 0.8820\n",
            "Epoch 9/10\n",
            "60000/60000 [==============================] - 3s - loss: 0.4222 - acc: 0.8864 - val_loss: 0.4148 - val_acc: 0.8876\n",
            "Epoch 10/10\n",
            "60000/60000 [==============================] - 2s - loss: 0.3986 - acc: 0.8913 - val_loss: 0.3987 - val_acc: 0.8915\n",
            "Test loss: 0.39869351770877837\n",
            "Test accuracy: 0.8915\n"
          ]
        }
      ],
      "source": [
        "model = Sequential()\n",
        "model.add(Dense(8, activation='sigmoid', input_shape=(784,)))\n",
        "model.add(Dense(8, activation='sigmoid'))\n",
        "model.add(Dense(num_classes, activation='softmax'))\n",
        "\n",
        "model.summary()\n",
        "model.compile(loss='categorical_crossentropy',\n",
        "              optimizer=RMSprop(),\n",
        "              metrics=['accuracy'])\n",
        "\n",
        "history = model.fit(x_train, y_train,\n",
        "                    batch_size=batch_size,\n",
        "                    epochs=10,\n",
        "                    verbose=1,\n",
        "                    validation_data=(x_test, y_test))\n",
        "score = model.evaluate(x_test, y_test, verbose=0)\n",
        "print('Test loss:', score[0])\n",
        "print('Test accuracy:', score[1])"
      ]
    },
    {
      "cell_type": "markdown",
      "metadata": {
        "id": "nFkJfgbJFEIU"
      },
      "source": [
        "### Relu Activation Function"
      ]
    },
    {
      "cell_type": "code",
      "execution_count": null,
      "metadata": {
        "id": "KFaORE6uFEIU"
      },
      "outputs": [],
      "source": [
        "# Write your code here\n",
        "\n",
        "# Use the same model design from the above cell"
      ]
    },
    {
      "cell_type": "markdown",
      "metadata": {
        "id": "mbq2j38NFEIU"
      },
      "source": [
        "### What are your findings?"
      ]
    },
    {
      "cell_type": "markdown",
      "metadata": {
        "id": "WrIs8Y1zFEIV"
      },
      "source": [
        "### Other Activation Functions\n",
        "* model.add(Dense(8, activation='tanh'))\n",
        "* model.add(Dense(8, activation='linear'))\n",
        "* model.add(Dense(8, activation='hard_sigmoid'))"
      ]
    },
    {
      "cell_type": "markdown",
      "metadata": {
        "id": "IzshNDXnFEIV"
      },
      "source": [
        "### Tips\n",
        "* Relu is commonly used in most hidden layers\n",
        "* In case of dead neurons, use leaky Relu"
      ]
    },
    {
      "cell_type": "markdown",
      "metadata": {
        "id": "VfMgFbXyFEIV"
      },
      "source": [
        "# Part 4: Design Choices in Neural Networks"
      ]
    },
    {
      "cell_type": "markdown",
      "metadata": {
        "id": "NMD1ZXK-FEIV"
      },
      "source": [
        "### Design a model with Low Number of Nodes. For Example 8"
      ]
    },
    {
      "cell_type": "code",
      "execution_count": null,
      "metadata": {
        "id": "pLxQRwnZFEIV",
        "outputId": "bcc6e782-1dac-4e26-b793-58e34e003da2"
      },
      "outputs": [
        {
          "name": "stdout",
          "output_type": "stream",
          "text": [
            "_________________________________________________________________\n",
            "Layer (type)                 Output Shape              Param #   \n",
            "=================================================================\n",
            "dense_11 (Dense)             (None, 8)                 6280      \n",
            "_________________________________________________________________\n",
            "dense_12 (Dense)             (None, 32)                288       \n",
            "_________________________________________________________________\n",
            "dense_13 (Dense)             (None, 10)                330       \n",
            "=================================================================\n",
            "Total params: 6,898\n",
            "Trainable params: 6,898\n",
            "Non-trainable params: 0\n",
            "_________________________________________________________________\n",
            "Train on 60000 samples, validate on 10000 samples\n",
            "Epoch 1/2\n",
            "60000/60000 [==============================] - 15s - loss: 1.8398 - acc: 0.5610 - val_loss: 1.3080 - val_acc: 0.7207\n",
            "Epoch 2/2\n",
            "60000/60000 [==============================] - 11s - loss: 0.9784 - acc: 0.7753 - val_loss: 0.7332 - val_acc: 0.8147\n",
            "Test loss: 0.7331901484489441\n",
            "Test accuracy: 0.8147\n",
            "Shape of First Layer (784, 8)\n",
            "Visualization of First Layer\n"
          ]
        },
        {
          "data": {
            "image/png": "[encoded data removed]",
            "text/plain": [
              "<matplotlib.figure.Figure at 0x7f02fc6b57b8>"
            ]
          },
          "metadata": {
            "tags": []
          },
          "output_type": "display_data"
        }
      ],
      "source": [
        "first_layer_size = 8\n",
        "\n",
        "model = Sequential()\n",
        "model.add(Dense(first_layer_size, activation='sigmoid', input_shape=(784,)))\n",
        "model.add(Dense(32, activation='sigmoid'))\n",
        "model.add(Dense(num_classes, activation='softmax'))\n",
        "\n",
        "model.summary()\n",
        "model.compile(loss='categorical_crossentropy',\n",
        "              optimizer=RMSprop(),\n",
        "              metrics=['accuracy'])\n",
        "\n",
        "history = model.fit(x_train, y_train,\n",
        "                    batch_size=batch_size,\n",
        "                    epochs=epochs,\n",
        "                    verbose=1,\n",
        "                    validation_data=(x_test, y_test))\n",
        "score = model.evaluate(x_test, y_test, verbose=0)\n",
        "print('Test loss:', score[0])\n",
        "print('Test accuracy:', score[1])\n",
        "\n",
        "w = []\n",
        "for layer in model.layers:\n",
        "    weights = layer.get_weights()\n",
        "    w.append(weights)\n",
        "\n",
        "layer1 = np.array(w[0][0])\n",
        "print(\"Shape of First Layer\",layer1.shape)\n",
        "print(\"Visualization of First Layer\")\n",
        "\n",
        "import matplotlib.pyplot as plt\n",
        "fig=plt.figure(figsize=(16, 16))\n",
        "columns = 8\n",
        "rows = int(first_layer_size/8)\n",
        "for i in range(1, columns*rows +1):\n",
        "    fig.add_subplot(rows, columns, i)\n",
        "    plt.imshow(layer1[:,i-1].reshape(28,28),cmap='gray')\n",
        "plt.show()"
      ]
    },
    {
      "cell_type": "markdown",
      "metadata": {
        "id": "h-niSg5UFEIW"
      },
      "source": [
        "### Design a model with Higher Number of Nodes. For example 128"
      ]
    },
    {
      "cell_type": "code",
      "execution_count": null,
      "metadata": {
        "id": "44zDtnBmFEIW"
      },
      "outputs": [],
      "source": [
        "# Write your code here\n",
        "\n",
        "# Use the same layer design from the above cell"
      ]
    },
    {
      "cell_type": "markdown",
      "metadata": {
        "id": "ELPf99NhFEIW"
      },
      "source": [
        "### Lower number of Layers. For example 1 hidden layer"
      ]
    },
    {
      "cell_type": "code",
      "execution_count": null,
      "metadata": {
        "id": "BhAVuwoQFEIW",
        "outputId": "b6448754-0040-4b8a-9f7b-4aca232edf53"
      },
      "outputs": [
        {
          "name": "stdout",
          "output_type": "stream",
          "text": [
            "_________________________________________________________________\n",
            "Layer (type)                 Output Shape              Param #   \n",
            "=================================================================\n",
            "dense_28 (Dense)             (None, 8)                 6280      \n",
            "_________________________________________________________________\n",
            "dense_29 (Dense)             (None, 8)                 72        \n",
            "_________________________________________________________________\n",
            "dense_30 (Dense)             (None, 8)                 72        \n",
            "_________________________________________________________________\n",
            "dense_31 (Dense)             (None, 8)                 72        \n",
            "_________________________________________________________________\n",
            "dense_32 (Dense)             (None, 8)                 72        \n",
            "_________________________________________________________________\n",
            "dense_33 (Dense)             (None, 8)                 72        \n",
            "_________________________________________________________________\n",
            "dense_34 (Dense)             (None, 8)                 72        \n",
            "_________________________________________________________________\n",
            "dense_35 (Dense)             (None, 8)                 72        \n",
            "_________________________________________________________________\n",
            "dense_36 (Dense)             (None, 8)                 72        \n",
            "_________________________________________________________________\n",
            "dense_37 (Dense)             (None, 8)                 72        \n",
            "_________________________________________________________________\n",
            "dense_38 (Dense)             (None, 8)                 72        \n",
            "_________________________________________________________________\n",
            "dense_39 (Dense)             (None, 8)                 72        \n",
            "_________________________________________________________________\n",
            "dense_40 (Dense)             (None, 8)                 72        \n",
            "_________________________________________________________________\n",
            "dense_41 (Dense)             (None, 8)                 72        \n",
            "_________________________________________________________________\n",
            "dense_42 (Dense)             (None, 8)                 72        \n",
            "_________________________________________________________________\n",
            "dense_43 (Dense)             (None, 8)                 72        \n",
            "_________________________________________________________________\n",
            "dense_44 (Dense)             (None, 8)                 72        \n",
            "_________________________________________________________________\n",
            "dense_45 (Dense)             (None, 8)                 72        \n",
            "_________________________________________________________________\n",
            "dense_46 (Dense)             (None, 8)                 72        \n",
            "_________________________________________________________________\n",
            "dense_47 (Dense)             (None, 10)                90        \n",
            "=================================================================\n",
            "Total params: 7,666\n",
            "Trainable params: 7,666\n",
            "Non-trainable params: 0\n",
            "_________________________________________________________________\n",
            "Train on 60000 samples, validate on 10000 samples\n",
            "Epoch 1/4\n",
            "60000/60000 [==============================] - 4s - loss: 1.9167 - acc: 0.2233 - val_loss: 1.6647 - val_acc: 0.3337\n",
            "Epoch 2/4\n",
            "60000/60000 [==============================] - 2s - loss: 1.4113 - acc: 0.4685 - val_loss: 1.2433 - val_acc: 0.5358\n",
            "Epoch 3/4\n",
            "60000/60000 [==============================] - 2s - loss: 1.0467 - acc: 0.6522 - val_loss: 0.9016 - val_acc: 0.7256\n",
            "Epoch 4/4\n",
            "60000/60000 [==============================] - 2s - loss: 0.9253 - acc: 0.7016 - val_loss: 0.8882 - val_acc: 0.7124\n",
            "Test loss: 0.8881575945854187\n",
            "Test accuracy: 0.7124\n"
          ]
        }
      ],
      "source": [
        "model = Sequential()\n",
        "model.add(Dense(8, activation='relu', input_shape=(784,)))\n",
        "model.add(Dense(8, activation='relu'))\n",
        "model.add(Dense(8, activation='relu'))\n",
        "model.add(Dense(8, activation='relu'))\n",
        "model.add(Dense(8, activation='relu'))\n",
        "model.add(Dense(8, activation='relu'))\n",
        "model.add(Dense(8, activation='relu'))\n",
        "model.add(Dense(8, activation='relu'))\n",
        "model.add(Dense(8, activation='relu'))\n",
        "model.add(Dense(8, activation='relu'))\n",
        "model.add(Dense(8, activation='relu'))\n",
        "model.add(Dense(8, activation='relu'))\n",
        "model.add(Dense(8, activation='relu'))\n",
        "model.add(Dense(8, activation='relu'))\n",
        "model.add(Dense(8, activation='relu'))\n",
        "model.add(Dense(8, activation='relu'))\n",
        "model.add(Dense(8, activation='relu'))\n",
        "model.add(Dense(8, activation='relu'))\n",
        "model.add(Dense(8, activation='relu'))\n",
        "model.add(Dense(num_classes, activation='softmax'))\n",
        "\n",
        "model.summary()\n",
        "model.compile(loss='categorical_crossentropy',\n",
        "              optimizer=RMSprop(),\n",
        "              metrics=['accuracy'])\n",
        "\n",
        "history = model.fit(x_train, y_train,\n",
        "                    batch_size=batch_size,\n",
        "                    epochs=4,\n",
        "                    verbose=1,\n",
        "                    validation_data=(x_test, y_test))\n",
        "score = model.evaluate(x_test, y_test, verbose=0)\n",
        "print('Test loss:', score[0])\n",
        "print('Test accuracy:', score[1])"
      ]
    },
    {
      "cell_type": "markdown",
      "metadata": {
        "id": "OiAw6MXJFEIW"
      },
      "source": [
        "### Lower number of Layers. For example 4 hidden layers"
      ]
    },
    {
      "cell_type": "code",
      "execution_count": null,
      "metadata": {
        "id": "s78cG1xpFEIX"
      },
      "outputs": [],
      "source": [
        "# Write your code here\n",
        "\n",
        "# Use the same number of units from the above cell\n"
      ]
    },
    {
      "cell_type": "markdown",
      "metadata": {
        "id": "si9h2XJyFEIX"
      },
      "source": [
        "### Tips\n",
        "* Choice of number of nodes and layers are application oriented i.e. trial and error\n",
        "* Designing a neural network and reasoning the results is more of an art than a science"
      ]
    }
  ],
  "metadata": {
    "accelerator": "GPU",
    "colab": {
      "gpuType": "T4",
      "provenance": [],
      "include_colab_link": true
    },
    "kernelspec": {
      "display_name": "Python 3",
      "name": "python3"
    },
    "language_info": {
      "codemirror_mode": {
        "name": "ipython",
        "version": 3
      },
      "file_extension": ".py",
      "mimetype": "text/x-python",
      "name": "python",
      "nbconvert_exporter": "python",
      "pygments_lexer": "ipython3",
      "version": "3.5.4"
    }
  },
  "nbformat": 4,
  "nbformat_minor": 0
}